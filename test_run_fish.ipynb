{
 "cells": [
  {
   "cell_type": "markdown",
   "source": [],
   "metadata": {
    "collapsed": false
   }
  },
  {
   "cell_type": "code",
   "execution_count": 1,
   "metadata": {
    "collapsed": true,
    "ExecuteTime": {
     "start_time": "2023-04-09T22:44:02.857384Z",
     "end_time": "2023-04-09T22:44:04.507837Z"
    }
   },
   "outputs": [],
   "source": [
    "import time\n",
    "import numpy as np\n",
    "import io\n",
    "import os\n",
    "import torch.nn.functional as F\n",
    "\n",
    "import torch\n",
    "from PIL import Image\n",
    "import cv2\n",
    "import saverloader\n",
    "from nets.pips import Pips\n",
    "import imageio.v3 as imageio\n",
    "from demo import run_model\n",
    "import utils.improc\n",
    "import random\n",
    "import glob\n",
    "from utils.basic import print_, print_stats\n",
    "from tensorboardX import SummaryWriter"
   ]
  },
  {
   "cell_type": "code",
   "execution_count": 2,
   "outputs": [
    {
     "name": "stderr",
     "output_type": "stream",
     "text": [
      "deprecated pixel format used, make sure you did set range correctly\n"
     ]
    }
   ],
   "source": [
    "file = open('/media/shirbar/DATA/codes/pips/feeding.avi')\n",
    "file.close()\n",
    "vid=imageio.imread('/media/shirbar/DATA/codes/pips/feeding.avi',plugin='pyav')"
   ],
   "metadata": {
    "collapsed": false,
    "ExecuteTime": {
     "start_time": "2023-04-09T22:44:04.510463Z",
     "end_time": "2023-04-09T22:44:04.640649Z"
    }
   }
  },
  {
   "cell_type": "code",
   "execution_count": 3,
   "outputs": [
    {
     "data": {
      "text/plain": "(41, 400, 400, 3)"
     },
     "execution_count": 3,
     "metadata": {},
     "output_type": "execute_result"
    }
   ],
   "source": [
    "vid.shape"
   ],
   "metadata": {
    "collapsed": false,
    "ExecuteTime": {
     "start_time": "2023-04-09T22:44:05.861367Z",
     "end_time": "2023-04-09T22:44:05.869542Z"
    }
   }
  },
  {
   "cell_type": "code",
   "execution_count": 4,
   "outputs": [
    {
     "data": {
      "text/plain": "torch.Size([1, 41, 3, 400, 400])"
     },
     "execution_count": 4,
     "metadata": {},
     "output_type": "execute_result"
    }
   ],
   "source": [
    "tens_vid = torch.from_numpy(vid).permute(0,3,1,2)\n",
    "tens_vid = tens_vid.unsqueeze(dim=0)\n",
    "tens_vid.shape"
   ],
   "metadata": {
    "collapsed": false,
    "ExecuteTime": {
     "start_time": "2023-04-09T22:44:07.248476Z",
     "end_time": "2023-04-09T22:44:07.259073Z"
    }
   }
  },
  {
   "cell_type": "code",
   "execution_count": 5,
   "outputs": [
    {
     "data": {
      "text/plain": "torch.Size([1, 8, 3, 400, 400])"
     },
     "execution_count": 5,
     "metadata": {},
     "output_type": "execute_result"
    }
   ],
   "source": [
    "tens_vid[:,0:40:5,...].shape"
   ],
   "metadata": {
    "collapsed": false,
    "ExecuteTime": {
     "start_time": "2023-04-09T22:41:01.881764Z",
     "end_time": "2023-04-09T22:41:01.897270Z"
    }
   }
  },
  {
   "cell_type": "code",
   "execution_count": 5,
   "outputs": [
    {
     "name": "stdout",
     "output_type": "stream",
     "text": [
      "reading ckpt from reference_model\n",
      "...found checkpoint reference_model/model-000200000.pth\n"
     ]
    },
    {
     "data": {
      "text/plain": "Pips(\n  (fnet): BasicEncoder(\n    (norm1): InstanceNorm2d(64, eps=1e-05, momentum=0.1, affine=False, track_running_stats=False)\n    (norm2): InstanceNorm2d(256, eps=1e-05, momentum=0.1, affine=False, track_running_stats=False)\n    (conv1): Conv2d(3, 64, kernel_size=(7, 7), stride=(2, 2), padding=(3, 3))\n    (relu1): ReLU(inplace=True)\n    (layer1): Sequential(\n      (0): ResidualBlock(\n        (conv1): Conv2d(64, 64, kernel_size=(3, 3), stride=(1, 1), padding=(1, 1))\n        (conv2): Conv2d(64, 64, kernel_size=(3, 3), stride=(1, 1), padding=(1, 1))\n        (relu): ReLU(inplace=True)\n        (norm1): InstanceNorm2d(64, eps=1e-05, momentum=0.1, affine=False, track_running_stats=False)\n        (norm2): InstanceNorm2d(64, eps=1e-05, momentum=0.1, affine=False, track_running_stats=False)\n      )\n      (1): ResidualBlock(\n        (conv1): Conv2d(64, 64, kernel_size=(3, 3), stride=(1, 1), padding=(1, 1))\n        (conv2): Conv2d(64, 64, kernel_size=(3, 3), stride=(1, 1), padding=(1, 1))\n        (relu): ReLU(inplace=True)\n        (norm1): InstanceNorm2d(64, eps=1e-05, momentum=0.1, affine=False, track_running_stats=False)\n        (norm2): InstanceNorm2d(64, eps=1e-05, momentum=0.1, affine=False, track_running_stats=False)\n      )\n    )\n    (layer2): Sequential(\n      (0): ResidualBlock(\n        (conv1): Conv2d(64, 96, kernel_size=(3, 3), stride=(2, 2), padding=(1, 1))\n        (conv2): Conv2d(96, 96, kernel_size=(3, 3), stride=(1, 1), padding=(1, 1))\n        (relu): ReLU(inplace=True)\n        (norm1): InstanceNorm2d(96, eps=1e-05, momentum=0.1, affine=False, track_running_stats=False)\n        (norm2): InstanceNorm2d(96, eps=1e-05, momentum=0.1, affine=False, track_running_stats=False)\n        (norm3): InstanceNorm2d(96, eps=1e-05, momentum=0.1, affine=False, track_running_stats=False)\n        (downsample): Sequential(\n          (0): Conv2d(64, 96, kernel_size=(1, 1), stride=(2, 2))\n          (1): InstanceNorm2d(96, eps=1e-05, momentum=0.1, affine=False, track_running_stats=False)\n        )\n      )\n      (1): ResidualBlock(\n        (conv1): Conv2d(96, 96, kernel_size=(3, 3), stride=(1, 1), padding=(1, 1))\n        (conv2): Conv2d(96, 96, kernel_size=(3, 3), stride=(1, 1), padding=(1, 1))\n        (relu): ReLU(inplace=True)\n        (norm1): InstanceNorm2d(96, eps=1e-05, momentum=0.1, affine=False, track_running_stats=False)\n        (norm2): InstanceNorm2d(96, eps=1e-05, momentum=0.1, affine=False, track_running_stats=False)\n      )\n    )\n    (layer3): Sequential(\n      (0): ResidualBlock(\n        (conv1): Conv2d(96, 128, kernel_size=(3, 3), stride=(2, 2), padding=(1, 1))\n        (conv2): Conv2d(128, 128, kernel_size=(3, 3), stride=(1, 1), padding=(1, 1))\n        (relu): ReLU(inplace=True)\n        (norm1): InstanceNorm2d(128, eps=1e-05, momentum=0.1, affine=False, track_running_stats=False)\n        (norm2): InstanceNorm2d(128, eps=1e-05, momentum=0.1, affine=False, track_running_stats=False)\n        (norm3): InstanceNorm2d(128, eps=1e-05, momentum=0.1, affine=False, track_running_stats=False)\n        (downsample): Sequential(\n          (0): Conv2d(96, 128, kernel_size=(1, 1), stride=(2, 2))\n          (1): InstanceNorm2d(128, eps=1e-05, momentum=0.1, affine=False, track_running_stats=False)\n        )\n      )\n      (1): ResidualBlock(\n        (conv1): Conv2d(128, 128, kernel_size=(3, 3), stride=(1, 1), padding=(1, 1))\n        (conv2): Conv2d(128, 128, kernel_size=(3, 3), stride=(1, 1), padding=(1, 1))\n        (relu): ReLU(inplace=True)\n        (norm1): InstanceNorm2d(128, eps=1e-05, momentum=0.1, affine=False, track_running_stats=False)\n        (norm2): InstanceNorm2d(128, eps=1e-05, momentum=0.1, affine=False, track_running_stats=False)\n      )\n    )\n    (layer4): Sequential(\n      (0): ResidualBlock(\n        (conv1): Conv2d(128, 128, kernel_size=(3, 3), stride=(2, 2), padding=(1, 1))\n        (conv2): Conv2d(128, 128, kernel_size=(3, 3), stride=(1, 1), padding=(1, 1))\n        (relu): ReLU(inplace=True)\n        (norm1): InstanceNorm2d(128, eps=1e-05, momentum=0.1, affine=False, track_running_stats=False)\n        (norm2): InstanceNorm2d(128, eps=1e-05, momentum=0.1, affine=False, track_running_stats=False)\n        (norm3): InstanceNorm2d(128, eps=1e-05, momentum=0.1, affine=False, track_running_stats=False)\n        (downsample): Sequential(\n          (0): Conv2d(128, 128, kernel_size=(1, 1), stride=(2, 2))\n          (1): InstanceNorm2d(128, eps=1e-05, momentum=0.1, affine=False, track_running_stats=False)\n        )\n      )\n      (1): ResidualBlock(\n        (conv1): Conv2d(128, 128, kernel_size=(3, 3), stride=(1, 1), padding=(1, 1))\n        (conv2): Conv2d(128, 128, kernel_size=(3, 3), stride=(1, 1), padding=(1, 1))\n        (relu): ReLU(inplace=True)\n        (norm1): InstanceNorm2d(128, eps=1e-05, momentum=0.1, affine=False, track_running_stats=False)\n        (norm2): InstanceNorm2d(128, eps=1e-05, momentum=0.1, affine=False, track_running_stats=False)\n      )\n    )\n    (conv2): Conv2d(416, 256, kernel_size=(3, 3), stride=(1, 1), padding=(1, 1))\n    (relu2): ReLU(inplace=True)\n    (conv3): Conv2d(256, 128, kernel_size=(1, 1), stride=(1, 1))\n  )\n  (delta_block): DeltaBlock(\n    (to_delta): Sequential(\n      (0): Linear(in_features=519, out_features=512, bias=True)\n      (1): Sequential(\n        (0): PreNormResidual(\n          (fn): Sequential(\n            (0): Conv1d(8, 32, kernel_size=(1,), stride=(1,))\n            (1): GELU(approximate=none)\n            (2): Dropout(p=0.0, inplace=False)\n            (3): Conv1d(32, 8, kernel_size=(1,), stride=(1,))\n            (4): Dropout(p=0.0, inplace=False)\n          )\n          (norm): LayerNorm((512,), eps=1e-05, elementwise_affine=True)\n        )\n        (1): PreNormResidual(\n          (fn): Sequential(\n            (0): Linear(in_features=512, out_features=2048, bias=True)\n            (1): GELU(approximate=none)\n            (2): Dropout(p=0.0, inplace=False)\n            (3): Linear(in_features=2048, out_features=512, bias=True)\n            (4): Dropout(p=0.0, inplace=False)\n          )\n          (norm): LayerNorm((512,), eps=1e-05, elementwise_affine=True)\n        )\n      )\n      (2): Sequential(\n        (0): PreNormResidual(\n          (fn): Sequential(\n            (0): Conv1d(8, 32, kernel_size=(1,), stride=(1,))\n            (1): GELU(approximate=none)\n            (2): Dropout(p=0.0, inplace=False)\n            (3): Conv1d(32, 8, kernel_size=(1,), stride=(1,))\n            (4): Dropout(p=0.0, inplace=False)\n          )\n          (norm): LayerNorm((512,), eps=1e-05, elementwise_affine=True)\n        )\n        (1): PreNormResidual(\n          (fn): Sequential(\n            (0): Linear(in_features=512, out_features=2048, bias=True)\n            (1): GELU(approximate=none)\n            (2): Dropout(p=0.0, inplace=False)\n            (3): Linear(in_features=2048, out_features=512, bias=True)\n            (4): Dropout(p=0.0, inplace=False)\n          )\n          (norm): LayerNorm((512,), eps=1e-05, elementwise_affine=True)\n        )\n      )\n      (3): Sequential(\n        (0): PreNormResidual(\n          (fn): Sequential(\n            (0): Conv1d(8, 32, kernel_size=(1,), stride=(1,))\n            (1): GELU(approximate=none)\n            (2): Dropout(p=0.0, inplace=False)\n            (3): Conv1d(32, 8, kernel_size=(1,), stride=(1,))\n            (4): Dropout(p=0.0, inplace=False)\n          )\n          (norm): LayerNorm((512,), eps=1e-05, elementwise_affine=True)\n        )\n        (1): PreNormResidual(\n          (fn): Sequential(\n            (0): Linear(in_features=512, out_features=2048, bias=True)\n            (1): GELU(approximate=none)\n            (2): Dropout(p=0.0, inplace=False)\n            (3): Linear(in_features=2048, out_features=512, bias=True)\n            (4): Dropout(p=0.0, inplace=False)\n          )\n          (norm): LayerNorm((512,), eps=1e-05, elementwise_affine=True)\n        )\n      )\n      (4): Sequential(\n        (0): PreNormResidual(\n          (fn): Sequential(\n            (0): Conv1d(8, 32, kernel_size=(1,), stride=(1,))\n            (1): GELU(approximate=none)\n            (2): Dropout(p=0.0, inplace=False)\n            (3): Conv1d(32, 8, kernel_size=(1,), stride=(1,))\n            (4): Dropout(p=0.0, inplace=False)\n          )\n          (norm): LayerNorm((512,), eps=1e-05, elementwise_affine=True)\n        )\n        (1): PreNormResidual(\n          (fn): Sequential(\n            (0): Linear(in_features=512, out_features=2048, bias=True)\n            (1): GELU(approximate=none)\n            (2): Dropout(p=0.0, inplace=False)\n            (3): Linear(in_features=2048, out_features=512, bias=True)\n            (4): Dropout(p=0.0, inplace=False)\n          )\n          (norm): LayerNorm((512,), eps=1e-05, elementwise_affine=True)\n        )\n      )\n      (5): Sequential(\n        (0): PreNormResidual(\n          (fn): Sequential(\n            (0): Conv1d(8, 32, kernel_size=(1,), stride=(1,))\n            (1): GELU(approximate=none)\n            (2): Dropout(p=0.0, inplace=False)\n            (3): Conv1d(32, 8, kernel_size=(1,), stride=(1,))\n            (4): Dropout(p=0.0, inplace=False)\n          )\n          (norm): LayerNorm((512,), eps=1e-05, elementwise_affine=True)\n        )\n        (1): PreNormResidual(\n          (fn): Sequential(\n            (0): Linear(in_features=512, out_features=2048, bias=True)\n            (1): GELU(approximate=none)\n            (2): Dropout(p=0.0, inplace=False)\n            (3): Linear(in_features=2048, out_features=512, bias=True)\n            (4): Dropout(p=0.0, inplace=False)\n          )\n          (norm): LayerNorm((512,), eps=1e-05, elementwise_affine=True)\n        )\n      )\n      (6): Sequential(\n        (0): PreNormResidual(\n          (fn): Sequential(\n            (0): Conv1d(8, 32, kernel_size=(1,), stride=(1,))\n            (1): GELU(approximate=none)\n            (2): Dropout(p=0.0, inplace=False)\n            (3): Conv1d(32, 8, kernel_size=(1,), stride=(1,))\n            (4): Dropout(p=0.0, inplace=False)\n          )\n          (norm): LayerNorm((512,), eps=1e-05, elementwise_affine=True)\n        )\n        (1): PreNormResidual(\n          (fn): Sequential(\n            (0): Linear(in_features=512, out_features=2048, bias=True)\n            (1): GELU(approximate=none)\n            (2): Dropout(p=0.0, inplace=False)\n            (3): Linear(in_features=2048, out_features=512, bias=True)\n            (4): Dropout(p=0.0, inplace=False)\n          )\n          (norm): LayerNorm((512,), eps=1e-05, elementwise_affine=True)\n        )\n      )\n      (7): Sequential(\n        (0): PreNormResidual(\n          (fn): Sequential(\n            (0): Conv1d(8, 32, kernel_size=(1,), stride=(1,))\n            (1): GELU(approximate=none)\n            (2): Dropout(p=0.0, inplace=False)\n            (3): Conv1d(32, 8, kernel_size=(1,), stride=(1,))\n            (4): Dropout(p=0.0, inplace=False)\n          )\n          (norm): LayerNorm((512,), eps=1e-05, elementwise_affine=True)\n        )\n        (1): PreNormResidual(\n          (fn): Sequential(\n            (0): Linear(in_features=512, out_features=2048, bias=True)\n            (1): GELU(approximate=none)\n            (2): Dropout(p=0.0, inplace=False)\n            (3): Linear(in_features=2048, out_features=512, bias=True)\n            (4): Dropout(p=0.0, inplace=False)\n          )\n          (norm): LayerNorm((512,), eps=1e-05, elementwise_affine=True)\n        )\n      )\n      (8): Sequential(\n        (0): PreNormResidual(\n          (fn): Sequential(\n            (0): Conv1d(8, 32, kernel_size=(1,), stride=(1,))\n            (1): GELU(approximate=none)\n            (2): Dropout(p=0.0, inplace=False)\n            (3): Conv1d(32, 8, kernel_size=(1,), stride=(1,))\n            (4): Dropout(p=0.0, inplace=False)\n          )\n          (norm): LayerNorm((512,), eps=1e-05, elementwise_affine=True)\n        )\n        (1): PreNormResidual(\n          (fn): Sequential(\n            (0): Linear(in_features=512, out_features=2048, bias=True)\n            (1): GELU(approximate=none)\n            (2): Dropout(p=0.0, inplace=False)\n            (3): Linear(in_features=2048, out_features=512, bias=True)\n            (4): Dropout(p=0.0, inplace=False)\n          )\n          (norm): LayerNorm((512,), eps=1e-05, elementwise_affine=True)\n        )\n      )\n      (9): Sequential(\n        (0): PreNormResidual(\n          (fn): Sequential(\n            (0): Conv1d(8, 32, kernel_size=(1,), stride=(1,))\n            (1): GELU(approximate=none)\n            (2): Dropout(p=0.0, inplace=False)\n            (3): Conv1d(32, 8, kernel_size=(1,), stride=(1,))\n            (4): Dropout(p=0.0, inplace=False)\n          )\n          (norm): LayerNorm((512,), eps=1e-05, elementwise_affine=True)\n        )\n        (1): PreNormResidual(\n          (fn): Sequential(\n            (0): Linear(in_features=512, out_features=2048, bias=True)\n            (1): GELU(approximate=none)\n            (2): Dropout(p=0.0, inplace=False)\n            (3): Linear(in_features=2048, out_features=512, bias=True)\n            (4): Dropout(p=0.0, inplace=False)\n          )\n          (norm): LayerNorm((512,), eps=1e-05, elementwise_affine=True)\n        )\n      )\n      (10): Sequential(\n        (0): PreNormResidual(\n          (fn): Sequential(\n            (0): Conv1d(8, 32, kernel_size=(1,), stride=(1,))\n            (1): GELU(approximate=none)\n            (2): Dropout(p=0.0, inplace=False)\n            (3): Conv1d(32, 8, kernel_size=(1,), stride=(1,))\n            (4): Dropout(p=0.0, inplace=False)\n          )\n          (norm): LayerNorm((512,), eps=1e-05, elementwise_affine=True)\n        )\n        (1): PreNormResidual(\n          (fn): Sequential(\n            (0): Linear(in_features=512, out_features=2048, bias=True)\n            (1): GELU(approximate=none)\n            (2): Dropout(p=0.0, inplace=False)\n            (3): Linear(in_features=2048, out_features=512, bias=True)\n            (4): Dropout(p=0.0, inplace=False)\n          )\n          (norm): LayerNorm((512,), eps=1e-05, elementwise_affine=True)\n        )\n      )\n      (11): Sequential(\n        (0): PreNormResidual(\n          (fn): Sequential(\n            (0): Conv1d(8, 32, kernel_size=(1,), stride=(1,))\n            (1): GELU(approximate=none)\n            (2): Dropout(p=0.0, inplace=False)\n            (3): Conv1d(32, 8, kernel_size=(1,), stride=(1,))\n            (4): Dropout(p=0.0, inplace=False)\n          )\n          (norm): LayerNorm((512,), eps=1e-05, elementwise_affine=True)\n        )\n        (1): PreNormResidual(\n          (fn): Sequential(\n            (0): Linear(in_features=512, out_features=2048, bias=True)\n            (1): GELU(approximate=none)\n            (2): Dropout(p=0.0, inplace=False)\n            (3): Linear(in_features=2048, out_features=512, bias=True)\n            (4): Dropout(p=0.0, inplace=False)\n          )\n          (norm): LayerNorm((512,), eps=1e-05, elementwise_affine=True)\n        )\n      )\n      (12): Sequential(\n        (0): PreNormResidual(\n          (fn): Sequential(\n            (0): Conv1d(8, 32, kernel_size=(1,), stride=(1,))\n            (1): GELU(approximate=none)\n            (2): Dropout(p=0.0, inplace=False)\n            (3): Conv1d(32, 8, kernel_size=(1,), stride=(1,))\n            (4): Dropout(p=0.0, inplace=False)\n          )\n          (norm): LayerNorm((512,), eps=1e-05, elementwise_affine=True)\n        )\n        (1): PreNormResidual(\n          (fn): Sequential(\n            (0): Linear(in_features=512, out_features=2048, bias=True)\n            (1): GELU(approximate=none)\n            (2): Dropout(p=0.0, inplace=False)\n            (3): Linear(in_features=2048, out_features=512, bias=True)\n            (4): Dropout(p=0.0, inplace=False)\n          )\n          (norm): LayerNorm((512,), eps=1e-05, elementwise_affine=True)\n        )\n      )\n      (13): LayerNorm((512,), eps=1e-05, elementwise_affine=True)\n      (14): Reduce('b n c -> b c', 'mean')\n      (15): Linear(in_features=512, out_features=1040, bias=True)\n    )\n  )\n  (norm): GroupNorm(1, 128, eps=1e-05, affine=True)\n  (ffeat_updater): Sequential(\n    (0): Linear(in_features=128, out_features=128, bias=True)\n    (1): GELU(approximate=none)\n  )\n  (vis_predictor): Sequential(\n    (0): Linear(in_features=128, out_features=1, bias=True)\n  )\n)"
     },
     "execution_count": 5,
     "metadata": {},
     "output_type": "execute_result"
    }
   ],
   "source": [
    "model = Pips(stride=4).cuda()\n",
    "init_dir = 'reference_model'\n",
    "_ = saverloader.load(init_dir, model)\n",
    "model.eval()"
   ],
   "metadata": {
    "collapsed": false,
    "ExecuteTime": {
     "start_time": "2023-04-09T22:44:15.825453Z",
     "end_time": "2023-04-09T22:44:17.654353Z"
    }
   }
  },
  {
   "cell_type": "code",
   "execution_count": 7,
   "outputs": [],
   "source": [
    "B = 1\n",
    "S = 8\n",
    "N = 16**2\n",
    "log_freq = 2\n",
    "global_step = 0\n",
    "log_dir = './logs_demo'\n",
    "model_name = 'slkjgdlk'\n",
    "writer_t = SummaryWriter(log_dir + '/' + model_name + '/t', max_queue=10, flush_secs=60)\n",
    "\n",
    "sw_t = utils.improc.Summ_writer(\n",
    "    writer=writer_t,\n",
    "    global_step=global_step,\n",
    "    log_freq=log_freq,\n",
    "    fps=5,\n",
    "    scalar_freq=int(log_freq/2),\n",
    "    just_gif=True)"
   ],
   "metadata": {
    "collapsed": false,
    "ExecuteTime": {
     "start_time": "2023-04-09T22:44:35.920158Z",
     "end_time": "2023-04-09T22:44:35.964244Z"
    }
   }
  },
  {
   "cell_type": "code",
   "execution_count": 11,
   "outputs": [],
   "source": [
    "#run_model(model,tens_vid[:,0:8,...],N,sw_t)\n",
    "rgbs = tens_vid[:,0:40:5,...].cuda().float()\n",
    "B, S, C, H, W = rgbs.shape\n",
    "rgbs_ = rgbs.reshape(B*S, C, H, W)\n",
    "H_, W_ = 360, 640\n",
    "rgbs_ = F.interpolate(rgbs_, (H_, W_), mode='bilinear')\n",
    "H, W = H_, W_\n",
    "rgbs = rgbs_.reshape(B, S, C, H, W)"
   ],
   "metadata": {
    "collapsed": false,
    "ExecuteTime": {
     "start_time": "2023-04-09T22:39:57.312078Z",
     "end_time": "2023-04-09T22:39:57.341820Z"
    }
   }
  },
  {
   "cell_type": "code",
   "execution_count": 8,
   "outputs": [],
   "source": [
    "rgbs = tens_vid[:,0:40:5,...].cuda().float()\n",
    "\n",
    "B, S, C, H, W = rgbs.shape\n",
    "N_ = np.sqrt(N).round().astype(np.int32)\n",
    "grid_y, grid_x = utils.basic.meshgrid2d(B, N_, N_, stack=False, norm=False, device='cuda')\n",
    "grid_y = 8 + grid_y.reshape(B, -1)/float(N_-1) * (H-16)\n",
    "grid_x = 8 + grid_x.reshape(B, -1)/float(N_-1) * (W-16)\n",
    "xy = torch.stack([grid_x, grid_y], dim=-1) # B, N_*N_, 2\n",
    "_, S, C, H, W = rgbs.shape\n",
    "preds, preds_anim, vis_e, stats = model(xy, rgbs, iters=6)"
   ],
   "metadata": {
    "collapsed": false,
    "ExecuteTime": {
     "start_time": "2023-04-09T22:44:40.927139Z",
     "end_time": "2023-04-09T22:44:42.508871Z"
    }
   }
  },
  {
   "cell_type": "code",
   "execution_count": 9,
   "outputs": [
    {
     "name": "stdout",
     "output_type": "stream",
     "text": [
      "trajs_e (float32) min = 3.77, mean = 202.45, max = 394.69 torch.Size([1, 8, 256, 2])\n"
     ]
    }
   ],
   "source": [
    "trajs_e = preds[-1]\n",
    "print_stats('trajs_e', trajs_e)\n",
    "\n",
    "pad = 50\n",
    "rgbs = F.pad(rgbs.reshape(B*S, 3, H, W), (pad, pad, pad, pad), 'constant', 0).reshape(B, S, 3, H+pad*2, W+pad*2)\n",
    "trajs_e = trajs_e + pad"
   ],
   "metadata": {
    "collapsed": false,
    "ExecuteTime": {
     "start_time": "2023-04-09T22:44:45.002033Z",
     "end_time": "2023-04-09T22:44:45.009499Z"
    }
   }
  },
  {
   "cell_type": "code",
   "execution_count": 10,
   "outputs": [
    {
     "data": {
      "text/plain": "torch.Size([1, 8, 256, 2])"
     },
     "execution_count": 10,
     "metadata": {},
     "output_type": "execute_result"
    }
   ],
   "source": [
    "trajs_e.shape"
   ],
   "metadata": {
    "collapsed": false,
    "ExecuteTime": {
     "start_time": "2023-04-09T22:44:46.640984Z",
     "end_time": "2023-04-09T22:44:46.652388Z"
    }
   }
  },
  {
   "cell_type": "code",
   "execution_count": 11,
   "outputs": [],
   "source": [
    "linewidth=2\n",
    "o1 = sw_t.summ_rgbs('inputs/rgbs', utils.improc.preprocess_color(rgbs[0:1]).unbind(1))\n",
    "o2 = sw_t.summ_traj2ds_on_rgbs('outputs/trajs_on_rgbs', trajs_e[0:1], utils.improc.preprocess_color(rgbs[0:1]), cmap='spring', linewidth=linewidth)\n",
    "o3 = sw_t.summ_traj2ds_on_rgbs('outputs/trajs_on_black', trajs_e[0:1], torch.ones_like(rgbs[0:1])*-0.5, cmap='spring', linewidth=linewidth)\n"
   ],
   "metadata": {
    "collapsed": false,
    "ExecuteTime": {
     "start_time": "2023-04-09T22:44:48.108546Z",
     "end_time": "2023-04-09T22:44:51.761599Z"
    }
   }
  },
  {
   "cell_type": "code",
   "execution_count": 12,
   "outputs": [
    {
     "data": {
      "text/plain": "torch.Size([1, 8, 3, 500, 500])"
     },
     "execution_count": 12,
     "metadata": {},
     "output_type": "execute_result"
    }
   ],
   "source": [
    "o3.shape"
   ],
   "metadata": {
    "collapsed": false,
    "ExecuteTime": {
     "start_time": "2023-04-09T22:44:51.767816Z",
     "end_time": "2023-04-09T22:44:51.777973Z"
    }
   }
  },
  {
   "cell_type": "code",
   "execution_count": 13,
   "outputs": [
    {
     "data": {
      "text/plain": "tensor([[[[[0, 0, 0,  ..., 0, 0, 0],\n           [0, 0, 0,  ..., 0, 0, 0],\n           [0, 0, 0,  ..., 0, 0, 0],\n           ...,\n           [0, 0, 0,  ..., 0, 0, 0],\n           [0, 0, 0,  ..., 0, 0, 0],\n           [0, 0, 0,  ..., 0, 0, 0]],\n\n          [[0, 0, 0,  ..., 0, 0, 0],\n           [0, 0, 0,  ..., 0, 0, 0],\n           [0, 0, 0,  ..., 0, 0, 0],\n           ...,\n           [0, 0, 0,  ..., 0, 0, 0],\n           [0, 0, 0,  ..., 0, 0, 0],\n           [0, 0, 0,  ..., 0, 0, 0]],\n\n          [[0, 0, 0,  ..., 0, 0, 0],\n           [0, 0, 0,  ..., 0, 0, 0],\n           [0, 0, 0,  ..., 0, 0, 0],\n           ...,\n           [0, 0, 0,  ..., 0, 0, 0],\n           [0, 0, 0,  ..., 0, 0, 0],\n           [0, 0, 0,  ..., 0, 0, 0]]],\n\n\n         [[[0, 0, 0,  ..., 0, 0, 0],\n           [0, 0, 0,  ..., 0, 0, 0],\n           [0, 0, 0,  ..., 0, 0, 0],\n           ...,\n           [0, 0, 0,  ..., 0, 0, 0],\n           [0, 0, 0,  ..., 0, 0, 0],\n           [0, 0, 0,  ..., 0, 0, 0]],\n\n          [[0, 0, 0,  ..., 0, 0, 0],\n           [0, 0, 0,  ..., 0, 0, 0],\n           [0, 0, 0,  ..., 0, 0, 0],\n           ...,\n           [0, 0, 0,  ..., 0, 0, 0],\n           [0, 0, 0,  ..., 0, 0, 0],\n           [0, 0, 0,  ..., 0, 0, 0]],\n\n          [[0, 0, 0,  ..., 0, 0, 0],\n           [0, 0, 0,  ..., 0, 0, 0],\n           [0, 0, 0,  ..., 0, 0, 0],\n           ...,\n           [0, 0, 0,  ..., 0, 0, 0],\n           [0, 0, 0,  ..., 0, 0, 0],\n           [0, 0, 0,  ..., 0, 0, 0]]],\n\n\n         [[[0, 0, 0,  ..., 0, 0, 0],\n           [0, 0, 0,  ..., 0, 0, 0],\n           [0, 0, 0,  ..., 0, 0, 0],\n           ...,\n           [0, 0, 0,  ..., 0, 0, 0],\n           [0, 0, 0,  ..., 0, 0, 0],\n           [0, 0, 0,  ..., 0, 0, 0]],\n\n          [[0, 0, 0,  ..., 0, 0, 0],\n           [0, 0, 0,  ..., 0, 0, 0],\n           [0, 0, 0,  ..., 0, 0, 0],\n           ...,\n           [0, 0, 0,  ..., 0, 0, 0],\n           [0, 0, 0,  ..., 0, 0, 0],\n           [0, 0, 0,  ..., 0, 0, 0]],\n\n          [[0, 0, 0,  ..., 0, 0, 0],\n           [0, 0, 0,  ..., 0, 0, 0],\n           [0, 0, 0,  ..., 0, 0, 0],\n           ...,\n           [0, 0, 0,  ..., 0, 0, 0],\n           [0, 0, 0,  ..., 0, 0, 0],\n           [0, 0, 0,  ..., 0, 0, 0]]],\n\n\n         ...,\n\n\n         [[[0, 0, 0,  ..., 0, 0, 0],\n           [0, 0, 0,  ..., 0, 0, 0],\n           [0, 0, 0,  ..., 0, 0, 0],\n           ...,\n           [0, 0, 0,  ..., 0, 0, 0],\n           [0, 0, 0,  ..., 0, 0, 0],\n           [0, 0, 0,  ..., 0, 0, 0]],\n\n          [[0, 0, 0,  ..., 0, 0, 0],\n           [0, 0, 0,  ..., 0, 0, 0],\n           [0, 0, 0,  ..., 0, 0, 0],\n           ...,\n           [0, 0, 0,  ..., 0, 0, 0],\n           [0, 0, 0,  ..., 0, 0, 0],\n           [0, 0, 0,  ..., 0, 0, 0]],\n\n          [[0, 0, 0,  ..., 0, 0, 0],\n           [0, 0, 0,  ..., 0, 0, 0],\n           [0, 0, 0,  ..., 0, 0, 0],\n           ...,\n           [0, 0, 0,  ..., 0, 0, 0],\n           [0, 0, 0,  ..., 0, 0, 0],\n           [0, 0, 0,  ..., 0, 0, 0]]],\n\n\n         [[[0, 0, 0,  ..., 0, 0, 0],\n           [0, 0, 0,  ..., 0, 0, 0],\n           [0, 0, 0,  ..., 0, 0, 0],\n           ...,\n           [0, 0, 0,  ..., 0, 0, 0],\n           [0, 0, 0,  ..., 0, 0, 0],\n           [0, 0, 0,  ..., 0, 0, 0]],\n\n          [[0, 0, 0,  ..., 0, 0, 0],\n           [0, 0, 0,  ..., 0, 0, 0],\n           [0, 0, 0,  ..., 0, 0, 0],\n           ...,\n           [0, 0, 0,  ..., 0, 0, 0],\n           [0, 0, 0,  ..., 0, 0, 0],\n           [0, 0, 0,  ..., 0, 0, 0]],\n\n          [[0, 0, 0,  ..., 0, 0, 0],\n           [0, 0, 0,  ..., 0, 0, 0],\n           [0, 0, 0,  ..., 0, 0, 0],\n           ...,\n           [0, 0, 0,  ..., 0, 0, 0],\n           [0, 0, 0,  ..., 0, 0, 0],\n           [0, 0, 0,  ..., 0, 0, 0]]],\n\n\n         [[[0, 0, 0,  ..., 0, 0, 0],\n           [0, 0, 0,  ..., 0, 0, 0],\n           [0, 0, 0,  ..., 0, 0, 0],\n           ...,\n           [0, 0, 0,  ..., 0, 0, 0],\n           [0, 0, 0,  ..., 0, 0, 0],\n           [0, 0, 0,  ..., 0, 0, 0]],\n\n          [[0, 0, 0,  ..., 0, 0, 0],\n           [0, 0, 0,  ..., 0, 0, 0],\n           [0, 0, 0,  ..., 0, 0, 0],\n           ...,\n           [0, 0, 0,  ..., 0, 0, 0],\n           [0, 0, 0,  ..., 0, 0, 0],\n           [0, 0, 0,  ..., 0, 0, 0]],\n\n          [[0, 0, 0,  ..., 0, 0, 0],\n           [0, 0, 0,  ..., 0, 0, 0],\n           [0, 0, 0,  ..., 0, 0, 0],\n           ...,\n           [0, 0, 0,  ..., 0, 0, 0],\n           [0, 0, 0,  ..., 0, 0, 0],\n           [0, 0, 0,  ..., 0, 0, 0]]]]], dtype=torch.uint8)"
     },
     "execution_count": 13,
     "metadata": {},
     "output_type": "execute_result"
    }
   ],
   "source": [
    "wide_cat = torch.cat([o1, o2, o3], dim=-1)\n",
    "sw_t.summ_rgbs('outputs/wide_cat', wide_cat.unbind(1))"
   ],
   "metadata": {
    "collapsed": false,
    "ExecuteTime": {
     "start_time": "2023-04-09T22:44:51.776202Z",
     "end_time": "2023-04-09T22:44:52.697060Z"
    }
   }
  },
  {
   "cell_type": "code",
   "execution_count": 14,
   "outputs": [
    {
     "name": "stdout",
     "output_type": "stream",
     "text": [
      "saved ./out_0.gif\n"
     ]
    }
   ],
   "source": [
    "wide_list = list(wide_cat.unbind(1))\n",
    "wide_list = [wide[0].permute(1,2,0).cpu().numpy() for wide in wide_list]\n",
    "wide_list = [Image.fromarray(wide) for wide in wide_list]\n",
    "out_fn = './out_%d.gif' % sw_t.global_step\n",
    "wide_list[0].save(out_fn, save_all=True, append_images=wide_list[1:])\n",
    "print('saved %s' % out_fn)\n"
   ],
   "metadata": {
    "collapsed": false,
    "ExecuteTime": {
     "start_time": "2023-04-09T22:44:52.704874Z",
     "end_time": "2023-04-09T22:44:53.366363Z"
    }
   }
  },
  {
   "cell_type": "code",
   "execution_count": null,
   "outputs": [],
   "source": [],
   "metadata": {
    "collapsed": false
   }
  }
 ],
 "metadata": {
  "kernelspec": {
   "display_name": "Python 3",
   "language": "python",
   "name": "python3"
  },
  "language_info": {
   "codemirror_mode": {
    "name": "ipython",
    "version": 2
   },
   "file_extension": ".py",
   "mimetype": "text/x-python",
   "name": "python",
   "nbconvert_exporter": "python",
   "pygments_lexer": "ipython2",
   "version": "2.7.6"
  }
 },
 "nbformat": 4,
 "nbformat_minor": 0
}
